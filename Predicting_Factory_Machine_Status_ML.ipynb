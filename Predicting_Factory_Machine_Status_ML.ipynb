{
 "cells": [
  {
   "cell_type": "markdown",
   "id": "2e43ea36",
   "metadata": {},
   "source": [
    "# **Prediciting Factory Machine Status**"
   ]
  },
  {
   "cell_type": "markdown",
   "id": "18e01301",
   "metadata": {},
   "source": [
    "Name: Myint Kyaw (Marcus) <br>\n",
    "Admin No: 2409081 <br>\n",
    "Class: DAAA/FT/1B/04"
   ]
  },
  {
   "cell_type": "markdown",
   "id": "f7c30d09",
   "metadata": {},
   "source": [
    "<hr>"
   ]
  },
  {
   "cell_type": "markdown",
   "id": "9c2fc8e9",
   "metadata": {},
   "source": [
    "# Projective Objective\n",
    "\n",
    "Build a supervised machine learning model (*Classification*) to predict whether the machine is working \n",
    "properly or faulty."
   ]
  },
  {
   "cell_type": "markdown",
   "id": "3659a53b",
   "metadata": {},
   "source": [
    "<hr>"
   ]
  },
  {
   "cell_type": "markdown",
   "id": "fd3d2517",
   "metadata": {},
   "source": [
    "# Background\n",
    "\n",
    "Determining if a machine is functioning properly is crucial because it ensures safety, efficiency, and cost-effectiveness. A malfunctioning machine can lead to serious safety hazards for operators and anyone nearby, particularly in industries like manufacturing, where operators have to stay close to the machine. Regular monitoring and maintenance will are key to minimize machine breakdowns.\n",
    "\n",
    "Preventive and predictive maintenance strategies are essential to this process. Preventive maintenance schedules regular check-ups to avoid unexpected failures, while predictive maintenance uses data and analytics to detect early signs of malfunction, allowing for timely intervention. These approaches help prevent costly downtime and maintain quality and consistency in production, which is vital for meeting customer demands and maintaining trust\n",
    "\n",
    "This is a dataset collected from a manufacturing factory. The dataset contains various \n",
    "information on different machines. From the perspective o  quality control, the factor \n",
    "wants to build a machine learning model to predict whether the machine is worki g\n",
    "properly or faul\n",
    "\n",
    "### Citations\n",
    "* FieldCircle. (2024). What is Equipment Maintenance? [online] Available at: https://www.fieldcircle.com/blog/equipment-maintenance/.\n",
    "* Balachandran, J. (2023). Ensuring Reliability and Efficiency: The Value of Preventive Maintenance. [online] Available at: https://www.maintwiz.com/blog/ensuring-reliability-and-efficiency-the-value-of-preventive-maintenance‌y.\n"
   ]
  },
  {
   "cell_type": "markdown",
   "id": "25f0e80b",
   "metadata": {},
   "source": [
    "<hr>"
   ]
  },
  {
   "cell_type": "markdown",
   "id": "26dc381b",
   "metadata": {},
   "source": [
    "# Content\n",
    "\n",
    "1. Importing modules and data\n",
    "2. Exploratory Data Analysis\n",
    "3. Data Preprocessing\n",
    "4. Experimenting with different models\n",
    "5. Evaluating the models' performance using the testing data\n",
    "6. Tuning the model for better results\n",
    "7. Conclusion"
   ]
  },
  {
   "cell_type": "markdown",
   "id": "94514aaf",
   "metadata": {},
   "source": [
    "<hr>"
   ]
  },
  {
   "cell_type": "markdown",
   "id": "aef23677",
   "metadata": {},
   "source": [
    "# 1. Importing modules and data"
   ]
  },
  {
   "cell_type": "markdown",
   "id": "b71d7047",
   "metadata": {},
   "source": [
    "## Importing Modules"
   ]
  },
  {
   "cell_type": "code",
   "execution_count": 2,
   "id": "5089f22f",
   "metadata": {},
   "outputs": [],
   "source": [
    "#Modules\n",
    "import pandas as pd\n",
    "import numpy as np\n",
    "import matplotlib.pyplot as plt\n",
    "\n",
    "#Processing and Imputing Data\n",
    "from sklearn.pipeline import Pipeline\n",
    "from sklearn.preprocessing import StandardScaler\n",
    "from sklearn.model_selection import RandomizedSearchCV\n",
    "from sklearn.model_selection import GridSearchCV\n",
    "from sklearn.impute import SimpleImputer\n",
    "\n",
    "# Importing Models\n",
    "from sklearn.neighbors import KNeighborsClassifier\n",
    "from sklearn.linear_model import Perceptron\n",
    "from sklearn.naive_bayes import GaussianNB\n",
    "from sklearn.dummy import DummyClassifier\n",
    "from sklearn.tree import DecisionTreeClassifier\n",
    "from sklearn.linear_model import LogisticRegression\n",
    "from sklearn.svm import SVC\n",
    "\n",
    "# Cross Validation\n",
    "from sklearn.model_selection import KFold\n",
    "from sklearn.model_selection import ShuffleSplit\n",
    "from sklearn.model_selection import cross_validate\n",
    "from sklearn.model_selection import cross_val_score\n",
    "from sklearn.model_selection import train_test_split\n",
    "\n",
    "\n",
    "# Model Evaluation\n",
    "from sklearn.model_selection import cross_val_predict\n",
    "from sklearn.model_selection import learning_curve\n",
    "from sklearn.metrics import ConfusionMatrixDisplay, confusion_matrix\n",
    "from sklearn.metrics import RocCurveDisplay\n",
    "from sklearn.metrics import roc_curve, precision_recall_curve, auc\n",
    "from sklearn.metrics import classification_report\n",
    "from sklearn.metrics import (balanced_accuracy_score, recall_score, f1_score, roc_auc_score, accuracy_score)\n",
    "from sklearn import tree\n"
   ]
  },
  {
   "cell_type": "code",
   "execution_count": 3,
   "id": "7f7e8b0d",
   "metadata": {},
   "outputs": [],
   "source": [
    "#Random Seed Setting\n",
    "seed = 42"
   ]
  },
  {
   "cell_type": "markdown",
   "id": "6e11d096",
   "metadata": {},
   "source": [
    "## Importing Data"
   ]
  },
  {
   "cell_type": "code",
   "execution_count": 4,
   "id": "c5620af4",
   "metadata": {},
   "outputs": [
    {
     "data": {
      "text/html": [
       "<div>\n",
       "<style scoped>\n",
       "    .dataframe tbody tr th:only-of-type {\n",
       "        vertical-align: middle;\n",
       "    }\n",
       "\n",
       "    .dataframe tbody tr th {\n",
       "        vertical-align: top;\n",
       "    }\n",
       "\n",
       "    .dataframe thead th {\n",
       "        text-align: right;\n",
       "    }\n",
       "</style>\n",
       "<table border=\"1\" class=\"dataframe\">\n",
       "  <thead>\n",
       "    <tr style=\"text-align: right;\">\n",
       "      <th></th>\n",
       "      <th>Unique ID</th>\n",
       "      <th>Product ID</th>\n",
       "      <th>Quality</th>\n",
       "      <th>Ambient T (C)</th>\n",
       "      <th>Process T (C)</th>\n",
       "      <th>Rotation Speed (rpm)</th>\n",
       "      <th>Torque (Nm)</th>\n",
       "      <th>Tool Wear (min)</th>\n",
       "      <th>Machine Status</th>\n",
       "    </tr>\n",
       "  </thead>\n",
       "  <tbody>\n",
       "    <tr>\n",
       "      <th>0</th>\n",
       "      <td>1</td>\n",
       "      <td>K12965</td>\n",
       "      <td>M</td>\n",
       "      <td>24.95</td>\n",
       "      <td>35.45</td>\n",
       "      <td>1551.0</td>\n",
       "      <td>42.8</td>\n",
       "      <td>0</td>\n",
       "      <td>0</td>\n",
       "    </tr>\n",
       "    <tr>\n",
       "      <th>1</th>\n",
       "      <td>2</td>\n",
       "      <td>Z62710</td>\n",
       "      <td>L</td>\n",
       "      <td>25.05</td>\n",
       "      <td>35.55</td>\n",
       "      <td>1408.0</td>\n",
       "      <td>46.3</td>\n",
       "      <td>3</td>\n",
       "      <td>0</td>\n",
       "    </tr>\n",
       "    <tr>\n",
       "      <th>2</th>\n",
       "      <td>3</td>\n",
       "      <td>T20224</td>\n",
       "      <td>L</td>\n",
       "      <td>24.95</td>\n",
       "      <td>35.35</td>\n",
       "      <td>1498.0</td>\n",
       "      <td>49.4</td>\n",
       "      <td>5</td>\n",
       "      <td>0</td>\n",
       "    </tr>\n",
       "    <tr>\n",
       "      <th>3</th>\n",
       "      <td>4</td>\n",
       "      <td>Z33024</td>\n",
       "      <td>L</td>\n",
       "      <td>25.05</td>\n",
       "      <td>35.45</td>\n",
       "      <td>1433.0</td>\n",
       "      <td>39.5</td>\n",
       "      <td>7</td>\n",
       "      <td>0</td>\n",
       "    </tr>\n",
       "    <tr>\n",
       "      <th>4</th>\n",
       "      <td>5</td>\n",
       "      <td>Z52839</td>\n",
       "      <td>L</td>\n",
       "      <td>25.05</td>\n",
       "      <td>35.55</td>\n",
       "      <td>1408.0</td>\n",
       "      <td>40.0</td>\n",
       "      <td>9</td>\n",
       "      <td>0</td>\n",
       "    </tr>\n",
       "    <tr>\n",
       "      <th>...</th>\n",
       "      <td>...</td>\n",
       "      <td>...</td>\n",
       "      <td>...</td>\n",
       "      <td>...</td>\n",
       "      <td>...</td>\n",
       "      <td>...</td>\n",
       "      <td>...</td>\n",
       "      <td>...</td>\n",
       "      <td>...</td>\n",
       "    </tr>\n",
       "    <tr>\n",
       "      <th>19995</th>\n",
       "      <td>19996</td>\n",
       "      <td>T87335</td>\n",
       "      <td>M</td>\n",
       "      <td>25.75</td>\n",
       "      <td>35.35</td>\n",
       "      <td>NaN</td>\n",
       "      <td>29.5</td>\n",
       "      <td>14</td>\n",
       "      <td>0</td>\n",
       "    </tr>\n",
       "    <tr>\n",
       "      <th>19996</th>\n",
       "      <td>19997</td>\n",
       "      <td>Z59525</td>\n",
       "      <td>H</td>\n",
       "      <td>25.85</td>\n",
       "      <td>35.35</td>\n",
       "      <td>1632.0</td>\n",
       "      <td>31.8</td>\n",
       "      <td>17</td>\n",
       "      <td>0</td>\n",
       "    </tr>\n",
       "    <tr>\n",
       "      <th>19997</th>\n",
       "      <td>19998</td>\n",
       "      <td>T83921</td>\n",
       "      <td>M</td>\n",
       "      <td>25.95</td>\n",
       "      <td>NaN</td>\n",
       "      <td>NaN</td>\n",
       "      <td>33.4</td>\n",
       "      <td>22</td>\n",
       "      <td>0</td>\n",
       "    </tr>\n",
       "    <tr>\n",
       "      <th>19998</th>\n",
       "      <td>19999</td>\n",
       "      <td>K42424</td>\n",
       "      <td>H</td>\n",
       "      <td>25.95</td>\n",
       "      <td>35.65</td>\n",
       "      <td>1408.0</td>\n",
       "      <td>48.5</td>\n",
       "      <td>25</td>\n",
       "      <td>0</td>\n",
       "    </tr>\n",
       "    <tr>\n",
       "      <th>19999</th>\n",
       "      <td>20000</td>\n",
       "      <td>Z10048</td>\n",
       "      <td>M</td>\n",
       "      <td>25.95</td>\n",
       "      <td>35.65</td>\n",
       "      <td>1500.0</td>\n",
       "      <td>40.2</td>\n",
       "      <td>30</td>\n",
       "      <td>0</td>\n",
       "    </tr>\n",
       "  </tbody>\n",
       "</table>\n",
       "<p>20000 rows × 9 columns</p>\n",
       "</div>"
      ],
      "text/plain": [
       "       Unique ID Product ID Quality  Ambient T (C)  Process T (C)  \\\n",
       "0              1     K12965       M          24.95          35.45   \n",
       "1              2     Z62710       L          25.05          35.55   \n",
       "2              3     T20224       L          24.95          35.35   \n",
       "3              4     Z33024       L          25.05          35.45   \n",
       "4              5     Z52839       L          25.05          35.55   \n",
       "...          ...        ...     ...            ...            ...   \n",
       "19995      19996     T87335       M          25.75          35.35   \n",
       "19996      19997     Z59525       H          25.85          35.35   \n",
       "19997      19998     T83921       M          25.95            NaN   \n",
       "19998      19999     K42424       H          25.95          35.65   \n",
       "19999      20000     Z10048       M          25.95          35.65   \n",
       "\n",
       "       Rotation Speed (rpm)  Torque (Nm)  Tool Wear (min)  Machine Status  \n",
       "0                    1551.0         42.8                0               0  \n",
       "1                    1408.0         46.3                3               0  \n",
       "2                    1498.0         49.4                5               0  \n",
       "3                    1433.0         39.5                7               0  \n",
       "4                    1408.0         40.0                9               0  \n",
       "...                     ...          ...              ...             ...  \n",
       "19995                   NaN         29.5               14               0  \n",
       "19996                1632.0         31.8               17               0  \n",
       "19997                   NaN         33.4               22               0  \n",
       "19998                1408.0         48.5               25               0  \n",
       "19999                1500.0         40.2               30               0  \n",
       "\n",
       "[20000 rows x 9 columns]"
      ]
     },
     "execution_count": 4,
     "metadata": {},
     "output_type": "execute_result"
    }
   ],
   "source": [
    "dataset = pd.read_csv('factory_data.csv', sep=',')\n",
    "dataset = pd.DataFrame(dataset)\n",
    "dataset"
   ]
  },
  {
   "cell_type": "markdown",
   "id": "2bcb4107",
   "metadata": {},
   "source": [
    "## Meta Data\n",
    "\n",
    "- Unique ID: the unique identifier\n",
    "- Product ID: the product ID\n",
    "- Quality: the machine quality, L = low, M = medium, H = high\n",
    "- Ambient T: the ambient temperature\n",
    "- Process T: the process temperature\n",
    "- Rotation Speed: the machine rotation speed measured in rpm (rounds per minute)\n",
    "- Torque: the torque of the machine\n",
    "- Tool Wear: the time of tool wear\n",
    "- Machine Status: 0 means normal, 1 means abnormal"
   ]
  },
  {
   "cell_type": "markdown",
   "id": "902728f2",
   "metadata": {},
   "source": [
    "# 2. Exploratory Data Analysis"
   ]
  },
  {
   "cell_type": "code",
   "execution_count": 5,
   "id": "bcd2c7eb",
   "metadata": {},
   "outputs": [
    {
     "name": "stdout",
     "output_type": "stream",
     "text": [
      "<class 'pandas.core.frame.DataFrame'>\n",
      "RangeIndex: 20000 entries, 0 to 19999\n",
      "Data columns (total 9 columns):\n",
      " #   Column                Non-Null Count  Dtype  \n",
      "---  ------                --------------  -----  \n",
      " 0   Unique ID             20000 non-null  int64  \n",
      " 1   Product ID            20000 non-null  object \n",
      " 2   Quality               19009 non-null  object \n",
      " 3   Ambient T (C)         20000 non-null  float64\n",
      " 4   Process T (C)         19600 non-null  float64\n",
      " 5   Rotation Speed (rpm)  18812 non-null  float64\n",
      " 6   Torque (Nm)           20000 non-null  float64\n",
      " 7   Tool Wear (min)       20000 non-null  int64  \n",
      " 8   Machine Status        20000 non-null  int64  \n",
      "dtypes: float64(4), int64(3), object(2)\n",
      "memory usage: 1.4+ MB\n"
     ]
    }
   ],
   "source": [
    "dataset.info()"
   ]
  },
  {
   "cell_type": "markdown",
   "id": "36d18eb4",
   "metadata": {},
   "source": [
    "The dataset contains 20000 rows (entries) and 9 columns (attributes)"
   ]
  },
  {
   "cell_type": "code",
   "execution_count": 6,
   "id": "13706426",
   "metadata": {},
   "outputs": [
    {
     "name": "stdout",
     "output_type": "stream",
     "text": [
      "Unique ID                  0\n",
      "Product ID                 0\n",
      "Quality                  991\n",
      "Ambient T (C)              0\n",
      "Process T (C)            400\n",
      "Rotation Speed (rpm)    1188\n",
      "Torque (Nm)                0\n",
      "Tool Wear (min)            0\n",
      "Machine Status             0\n",
      "dtype: int64\n"
     ]
    }
   ],
   "source": [
    "print(dataset.isna().sum())"
   ]
  },
  {
   "cell_type": "markdown",
   "id": "9074d497",
   "metadata": {},
   "source": [
    "The dataset contains missing values in `Quality`, `Process T (C)` and `Rotation Speed (rpm)` columns"
   ]
  },
  {
   "cell_type": "markdown",
   "id": "72061d4e",
   "metadata": {},
   "source": [
    "<hr>"
   ]
  },
  {
   "cell_type": "markdown",
   "id": "5f9b10bf",
   "metadata": {},
   "source": [
    "### Numerical Features"
   ]
  },
  {
   "cell_type": "code",
   "execution_count": 7,
   "id": "937e7760",
   "metadata": {},
   "outputs": [
    {
     "data": {
      "text/html": [
       "<div>\n",
       "<style scoped>\n",
       "    .dataframe tbody tr th:only-of-type {\n",
       "        vertical-align: middle;\n",
       "    }\n",
       "\n",
       "    .dataframe tbody tr th {\n",
       "        vertical-align: top;\n",
       "    }\n",
       "\n",
       "    .dataframe thead th {\n",
       "        text-align: right;\n",
       "    }\n",
       "</style>\n",
       "<table border=\"1\" class=\"dataframe\">\n",
       "  <thead>\n",
       "    <tr style=\"text-align: right;\">\n",
       "      <th></th>\n",
       "      <th>Ambient T (C)</th>\n",
       "      <th>Process T (C)</th>\n",
       "      <th>Rotation Speed (rpm)</th>\n",
       "      <th>Torque (Nm)</th>\n",
       "      <th>Tool Wear (min)</th>\n",
       "    </tr>\n",
       "  </thead>\n",
       "  <tbody>\n",
       "    <tr>\n",
       "      <th>count</th>\n",
       "      <td>20000.000000</td>\n",
       "      <td>19600.000000</td>\n",
       "      <td>18812.000000</td>\n",
       "      <td>20000.000000</td>\n",
       "      <td>20000.000000</td>\n",
       "    </tr>\n",
       "    <tr>\n",
       "      <th>mean</th>\n",
       "      <td>26.904930</td>\n",
       "      <td>36.904291</td>\n",
       "      <td>1538.795397</td>\n",
       "      <td>39.986910</td>\n",
       "      <td>107.951000</td>\n",
       "    </tr>\n",
       "    <tr>\n",
       "      <th>std</th>\n",
       "      <td>2.000834</td>\n",
       "      <td>1.483647</td>\n",
       "      <td>178.674963</td>\n",
       "      <td>9.968684</td>\n",
       "      <td>63.652555</td>\n",
       "    </tr>\n",
       "    <tr>\n",
       "      <th>min</th>\n",
       "      <td>22.150000</td>\n",
       "      <td>32.550000</td>\n",
       "      <td>1168.000000</td>\n",
       "      <td>3.800000</td>\n",
       "      <td>0.000000</td>\n",
       "    </tr>\n",
       "    <tr>\n",
       "      <th>25%</th>\n",
       "      <td>25.250000</td>\n",
       "      <td>35.750000</td>\n",
       "      <td>1423.000000</td>\n",
       "      <td>33.200000</td>\n",
       "      <td>53.000000</td>\n",
       "    </tr>\n",
       "    <tr>\n",
       "      <th>50%</th>\n",
       "      <td>26.950000</td>\n",
       "      <td>36.950000</td>\n",
       "      <td>1503.000000</td>\n",
       "      <td>40.100000</td>\n",
       "      <td>108.000000</td>\n",
       "    </tr>\n",
       "    <tr>\n",
       "      <th>75%</th>\n",
       "      <td>28.450000</td>\n",
       "      <td>37.950000</td>\n",
       "      <td>1613.000000</td>\n",
       "      <td>46.800000</td>\n",
       "      <td>162.000000</td>\n",
       "    </tr>\n",
       "    <tr>\n",
       "      <th>max</th>\n",
       "      <td>31.450000</td>\n",
       "      <td>40.750000</td>\n",
       "      <td>2886.000000</td>\n",
       "      <td>76.600000</td>\n",
       "      <td>253.000000</td>\n",
       "    </tr>\n",
       "  </tbody>\n",
       "</table>\n",
       "</div>"
      ],
      "text/plain": [
       "       Ambient T (C)  Process T (C)  Rotation Speed (rpm)   Torque (Nm)  \\\n",
       "count   20000.000000   19600.000000          18812.000000  20000.000000   \n",
       "mean       26.904930      36.904291           1538.795397     39.986910   \n",
       "std         2.000834       1.483647            178.674963      9.968684   \n",
       "min        22.150000      32.550000           1168.000000      3.800000   \n",
       "25%        25.250000      35.750000           1423.000000     33.200000   \n",
       "50%        26.950000      36.950000           1503.000000     40.100000   \n",
       "75%        28.450000      37.950000           1613.000000     46.800000   \n",
       "max        31.450000      40.750000           2886.000000     76.600000   \n",
       "\n",
       "       Tool Wear (min)  \n",
       "count     20000.000000  \n",
       "mean        107.951000  \n",
       "std          63.652555  \n",
       "min           0.000000  \n",
       "25%          53.000000  \n",
       "50%         108.000000  \n",
       "75%         162.000000  \n",
       "max         253.000000  "
      ]
     },
     "execution_count": 7,
     "metadata": {},
     "output_type": "execute_result"
    }
   ],
   "source": [
    "dataset.drop([\"Unique ID\", \"Machine Status\"], axis=1).describe()"
   ]
  },
  {
   "cell_type": "code",
   "execution_count": 8,
   "id": "0a0ec3af",
   "metadata": {},
   "outputs": [
    {
     "data": {
      "image/png": "[encoded data removed]",
      "text/plain": [
       "<Figure size 1400x700 with 1 Axes>"
      ]
     },
     "metadata": {},
     "output_type": "display_data"
    }
   ],
   "source": [
    "dataset.drop([\"Unique ID\", \"Machine Status\"], axis=1).boxplot(figsize=(14,7))\n",
    "plt.show()"
   ]
  },
  {
   "cell_type": "markdown",
   "id": "c1bb71b5",
   "metadata": {},
   "source": [
    "### Box Plot: Variation of Numerical Features\n",
    "\n",
    "The box plot shows that there are a few outliers, especially in the `Rotation Speed` column. It is also apparent that the scales of the numerical features are different. Most features have a maximum of around 100, but `Rotation Speed` has a maximum of around 2900."
   ]
  },
  {
   "cell_type": "code",
   "execution_count": 10,
   "id": "29ffb2f6",
   "metadata": {},
   "outputs": [
    {
     "data": {
      "image/png": "[encoded data removed]",
      "text/plain": [
       "<Figure size 1400x700 with 2 Axes>"
      ]
     },
     "metadata": {},
     "output_type": "display_data"
    }
   ],
   "source": [
    "import seaborn as sns\n",
    "\n",
    "# Drop non-numeric columns and calculate correlation matrix\n",
    "correlation_matrix = dataset.drop([\"Unique ID\", \"Machine Status\", \"Product ID\", \"Quality\"], axis=1).corr()\n",
    "\n",
    "# Set figure size\n",
    "plt.figure(figsize=(14, 7))\n",
    "\n",
    "# Create heatmap\n",
    "sns.heatmap(correlation_matrix, \n",
    "            annot=True,        # Show correlation values\n",
    "            fmt=\".3f\",         # Format values to 3 decimals\n",
    "            cmap=\"coolwarm\",   # Color map\n",
    "            cbar=True,         # Show color bar\n",
    "            square=True)       # Make cells square\n",
    "\n",
    "plt.title(\"Correlation Heatmap\", fontsize=14)\n",
    "plt.tight_layout()\n",
    "plt.show()"
   ]
  },
  {
   "cell_type": "markdown",
   "id": "caea37c0",
   "metadata": {},
   "source": [
    "### Heat Map: Correlation Between Numerical Features\n",
    "\n",
    "The heatmap shows a high correlation betweeen `Ambient Temperature` and `Process Temperature` (0.876), and between `Rotation Speed` and `Torque` (-0.875). While the others have low correlation."
   ]
  },
  {
   "cell_type": "markdown",
   "id": "56971c59",
   "metadata": {},
   "source": [
    "<hr>"
   ]
  },
  {
   "cell_type": "markdown",
   "id": "8a88e688",
   "metadata": {},
   "source": [
    "### Categorical Features"
   ]
  },
  {
   "cell_type": "code",
   "execution_count": 13,
   "id": "6a357a7a",
   "metadata": {},
   "outputs": [
    {
     "data": {
      "text/html": [
       "<div>\n",
       "<style scoped>\n",
       "    .dataframe tbody tr th:only-of-type {\n",
       "        vertical-align: middle;\n",
       "    }\n",
       "\n",
       "    .dataframe tbody tr th {\n",
       "        vertical-align: top;\n",
       "    }\n",
       "\n",
       "    .dataframe thead th {\n",
       "        text-align: right;\n",
       "    }\n",
       "</style>\n",
       "<table border=\"1\" class=\"dataframe\">\n",
       "  <thead>\n",
       "    <tr style=\"text-align: right;\">\n",
       "      <th></th>\n",
       "      <th>Unique ID</th>\n",
       "      <th>Product ID</th>\n",
       "      <th>Quality</th>\n",
       "      <th>Machine Status</th>\n",
       "    </tr>\n",
       "  </thead>\n",
       "  <tbody>\n",
       "    <tr>\n",
       "      <th>0</th>\n",
       "      <td>1</td>\n",
       "      <td>K12965</td>\n",
       "      <td>M</td>\n",
       "      <td>0</td>\n",
       "    </tr>\n",
       "    <tr>\n",
       "      <th>1</th>\n",
       "      <td>2</td>\n",
       "      <td>Z62710</td>\n",
       "      <td>L</td>\n",
       "      <td>0</td>\n",
       "    </tr>\n",
       "    <tr>\n",
       "      <th>2</th>\n",
       "      <td>3</td>\n",
       "      <td>T20224</td>\n",
       "      <td>L</td>\n",
       "      <td>0</td>\n",
       "    </tr>\n",
       "    <tr>\n",
       "      <th>3</th>\n",
       "      <td>4</td>\n",
       "      <td>Z33024</td>\n",
       "      <td>L</td>\n",
       "      <td>0</td>\n",
       "    </tr>\n",
       "    <tr>\n",
       "      <th>4</th>\n",
       "      <td>5</td>\n",
       "      <td>Z52839</td>\n",
       "      <td>L</td>\n",
       "      <td>0</td>\n",
       "    </tr>\n",
       "    <tr>\n",
       "      <th>...</th>\n",
       "      <td>...</td>\n",
       "      <td>...</td>\n",
       "      <td>...</td>\n",
       "      <td>...</td>\n",
       "    </tr>\n",
       "    <tr>\n",
       "      <th>19995</th>\n",
       "      <td>19996</td>\n",
       "      <td>T87335</td>\n",
       "      <td>M</td>\n",
       "      <td>0</td>\n",
       "    </tr>\n",
       "    <tr>\n",
       "      <th>19996</th>\n",
       "      <td>19997</td>\n",
       "      <td>Z59525</td>\n",
       "      <td>H</td>\n",
       "      <td>0</td>\n",
       "    </tr>\n",
       "    <tr>\n",
       "      <th>19997</th>\n",
       "      <td>19998</td>\n",
       "      <td>T83921</td>\n",
       "      <td>M</td>\n",
       "      <td>0</td>\n",
       "    </tr>\n",
       "    <tr>\n",
       "      <th>19998</th>\n",
       "      <td>19999</td>\n",
       "      <td>K42424</td>\n",
       "      <td>H</td>\n",
       "      <td>0</td>\n",
       "    </tr>\n",
       "    <tr>\n",
       "      <th>19999</th>\n",
       "      <td>20000</td>\n",
       "      <td>Z10048</td>\n",
       "      <td>M</td>\n",
       "      <td>0</td>\n",
       "    </tr>\n",
       "  </tbody>\n",
       "</table>\n",
       "<p>20000 rows × 4 columns</p>\n",
       "</div>"
      ],
      "text/plain": [
       "       Unique ID Product ID Quality  Machine Status\n",
       "0              1     K12965       M               0\n",
       "1              2     Z62710       L               0\n",
       "2              3     T20224       L               0\n",
       "3              4     Z33024       L               0\n",
       "4              5     Z52839       L               0\n",
       "...          ...        ...     ...             ...\n",
       "19995      19996     T87335       M               0\n",
       "19996      19997     Z59525       H               0\n",
       "19997      19998     T83921       M               0\n",
       "19998      19999     K42424       H               0\n",
       "19999      20000     Z10048       M               0\n",
       "\n",
       "[20000 rows x 4 columns]"
      ]
     },
     "execution_count": 13,
     "metadata": {},
     "output_type": "execute_result"
    }
   ],
   "source": [
    "dataset[['Unique ID', 'Product ID', 'Quality', 'Machine Status']]"
   ]
  },
  {
   "cell_type": "markdown",
   "id": "93c876d3",
   "metadata": {},
   "source": []
  },
  {
   "cell_type": "markdown",
   "id": "fcef82de",
   "metadata": {},
   "source": [
    "# 3. Data Preprocessing"
   ]
  },
  {
   "cell_type": "markdown",
   "id": "c07261be",
   "metadata": {},
   "source": [
    "# 4. Experimenting with different models"
   ]
  },
  {
   "cell_type": "markdown",
   "id": "9e5ae398",
   "metadata": {},
   "source": [
    "# 5. Evaluating the models' performance using the testing data"
   ]
  },
  {
   "cell_type": "markdown",
   "id": "299a89f8",
   "metadata": {},
   "source": [
    "# 6. Tuning the model for better results"
   ]
  },
  {
   "cell_type": "markdown",
   "id": "46d1c0c1",
   "metadata": {},
   "source": [
    "# 7. Conclusion"
   ]
  }
 ],
 "metadata": {
  "kernelspec": {
   "display_name": "base",
   "language": "python",
   "name": "python3"
  },
  "language_info": {
   "codemirror_mode": {
    "name": "ipython",
    "version": 3
   },
   "file_extension": ".py",
   "mimetype": "text/x-python",
   "name": "python",
   "nbconvert_exporter": "python",
   "pygments_lexer": "ipython3",
   "version": "3.12.4"
  }
 },
 "nbformat": 4,
 "nbformat_minor": 5
}
